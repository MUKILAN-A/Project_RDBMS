{
 "cells": [
  {
   "cell_type": "markdown",
   "id": "b3bd8890-7116-4479-82f8-bc01c7ca4c8a",
   "metadata": {},
   "source": [
    "<h1 style=\"background-color: lightblue; color: black; font-size: 30px; border-radius: 20px; padding: 16px; text-align: center;\"><b>Employee Performance and Assignment Management System</b></h1>"
   ]
  },
  {
   "cell_type": "markdown",
   "id": "03a20f2b-b49b-429b-b08c-c9ac9466121e",
   "metadata": {},
   "source": [
    "# "
   ]
  },
  {
   "cell_type": "markdown",
   "id": "b867582d-9913-43e1-ae52-eb4c4e3504da",
   "metadata": {},
   "source": [
    "# 1. Project Overview"
   ]
  },
  {
   "cell_type": "markdown",
   "id": "b3841dc3-b3a5-41e3-95a5-394f1bf05fd7",
   "metadata": {},
   "source": [
    "<h1 style=\"font-size: 14px; border-radius: 20px; padding: 12px; border: 4px solid gray; line-height: 1.6;\">This project aims to develop a relational database to manage employee performance evaluations, assignments, and employer information. It provides insights into employee productivity and helps in tracking assignments efficiently.</h1>"
   ]
  },
  {
   "cell_type": "markdown",
   "id": "21288754-9ffc-456d-8ebc-3fb73213cca5",
   "metadata": {},
   "source": [
    "# 2. Database Schema"
   ]
  },
  {
   "cell_type": "markdown",
   "id": "3effe60b-db33-4d53-a4da-c30eace15c67",
   "metadata": {},
   "source": [
    "Tables\n",
    "\n",
    "   * Employer\n",
    "\n",
    "        * EmployerID (Primary Key): Unique identifier for each employer.\n",
    "        \n",
    "        * EmployerName: Name of the employer.\n",
    "        \n",
    "        * StreetNo: Street number of the employer's address.\n",
    "        \n",
    "        * StreetName: Street name of the employer's address.\n",
    "        \n",
    "        * City: City where the employer is located.\n",
    "        \n",
    "        * Province: Province abbreviation.\n",
    "        \n",
    "        * PostalCode: Postal code of the employer's address."
   ]
  },
  {
   "cell_type": "markdown",
   "id": "56d470cf-417a-4f15-a624-81e54d069b53",
   "metadata": {},
   "source": [
    "   * Employee\n",
    "\n",
    "        * EmployeeID (Primary Key): Unique identifier for each employee.\n",
    "          \n",
    "        * SIN (Primary Key): Social Insurance Number of the employee.\n",
    "    \n",
    "        * EmployeeFirstName: First name of the employee.\n",
    "    \n",
    "        * EmployeeLastName: Last name of the employee.\n",
    "    \n",
    "        * Age: Age of the employee.\n",
    "    \n",
    "        * Gender: Gender of the employee.\n",
    "    \n",
    "        * EmployeeType: Type of employment (e.g., Full-time, Part-time).\n",
    "    \n",
    "        * Rate: Hourly rate of the employee.\n",
    "    \n",
    "        * BEmployerID: Foreign key referencing Employer."
   ]
  },
  {
   "cell_type": "markdown",
   "id": "0af13fcd-9014-4e33-a4ac-897c0fca607f",
   "metadata": {},
   "source": [
    "   * Assignment\n",
    "\n",
    "        * AssignmentNo (Primary Key): Unique identifier for each assignment.\n",
    "\n",
    "        * AssignmentName: Name of the assignment.\n",
    "\n",
    "        * AssignmentDescription: Description of the assignment.\n",
    "\n",
    "        * StartDate: Start date of the assignment.\n",
    "\n",
    "        * EmployerID: Foreign key referencing Employer.\n",
    "\n",
    "        * EmployeeID: Foreign key referencing Employee.\n",
    "\n",
    "        * SIN: Foreign key referencing Employee."
   ]
  },
  {
   "cell_type": "markdown",
   "id": "cccce44d-86a0-4922-bf79-26e5751ed33f",
   "metadata": {},
   "source": [
    "   * PerformanceEvaluation\n",
    "\n",
    "        * Assessment (Primary Key): Assessment score for the evaluation.\n",
    "    \n",
    "        * WorkingHours: Number of hours worked.\n",
    "\n",
    "        * Bonus: Bonus awarded.\n",
    "\n",
    "        * EmployerID: Foreign key referencing Employer.\n",
    "    \n",
    "        * EmployeeID: Foreign key referencing Employee.\n",
    "\n",
    "        * SIN: Foreign key referencing Employee."
   ]
  },
  {
   "cell_type": "markdown",
   "id": "1a551c2a-8328-4f15-a7cc-4bb8f61ba0fc",
   "metadata": {},
   "source": [
    "   * WorkingOn\n",
    "\n",
    "        * EmployeeID: Foreign key referencing Employee.\n",
    "    \n",
    "        * SIN: Foreign key referencing Employee.\n",
    "\n",
    "        * AssignmentNo: Foreign key referencing Assignment.\n",
    "    \n",
    "        * AssignmentName: Name of the assignment."
   ]
  },
  {
   "cell_type": "markdown",
   "id": "6fed7f65-904e-4d06-96f0-b853d98efbeb",
   "metadata": {},
   "source": [
    "# "
   ]
  },
  {
   "cell_type": "markdown",
   "id": "4201baef-d3c1-4bf3-906c-5cf2b82b3497",
   "metadata": {},
   "source": [
    "# 3. Key Queries"
   ]
  },
  {
   "cell_type": "markdown",
   "id": "04a803ea-22dd-44d1-abfc-b523255955cf",
   "metadata": {},
   "source": [
    "* Retrieve all employers in Toronto:"
   ]
  },
  {
   "cell_type": "markdown",
   "id": "e56342c4-705d-4425-b999-351518114ca3",
   "metadata": {},
   "source": [
    "         SELECT * FROM Employer WHERE City = 'Toronto';"
   ]
  },
  {
   "cell_type": "markdown",
   "id": "e569b1fe-6be4-4126-b273-df07b9ef3514",
   "metadata": {},
   "source": [
    "* Get all employees who are male:"
   ]
  },
  {
   "cell_type": "code",
   "execution_count": null,
   "id": "4d5189c3-50f6-4c54-98fe-05daf3a2f6b7",
   "metadata": {},
   "outputs": [],
   "source": [
    "         SELECT * FROM Employee WHERE Gender = 'Male';"
   ]
  },
  {
   "cell_type": "markdown",
   "id": "1aec31fe-a91c-4a4f-a690-ee86a4545c9a",
   "metadata": {},
   "source": [
    "* Find all assignments related to data analysis:"
   ]
  },
  {
   "cell_type": "code",
   "execution_count": null,
   "id": "abfe61f3-f75d-4bd2-8182-e178933a9231",
   "metadata": {},
   "outputs": [],
   "source": [
    "         SELECT * FROM Assignment WHERE AssignmentName LIKE '%Data%';"
   ]
  },
  {
   "cell_type": "markdown",
   "id": "f2a5a232-917d-4ec8-8474-2629eca14154",
   "metadata": {},
   "source": [
    "* Calculate average bonus by employer:"
   ]
  },
  {
   "cell_type": "code",
   "execution_count": null,
   "id": "81c398cf-4cc6-4e5f-acf7-d030224a7b05",
   "metadata": {},
   "outputs": [],
   "source": [
    "         SELECT EmployerID, AVG(Bonus) FROM PerformanceEvaluation GROUP BY EmployerID;"
   ]
  },
  {
   "cell_type": "markdown",
   "id": "65aeba14-0b2f-419a-a79a-e38d517a97af",
   "metadata": {},
   "source": [
    "# "
   ]
  },
  {
   "cell_type": "markdown",
   "id": "65cc0571-60eb-40e4-8624-6e0ff8ba028e",
   "metadata": {},
   "source": [
    "# 4. Data Export"
   ]
  },
  {
   "cell_type": "markdown",
   "id": "bc722a19-0ccd-4a89-8fec-4c0f4a17eea2",
   "metadata": {},
   "source": [
    "- Execute the SQL query to retrieve the desired data.\n",
    "- Right-click on the result grid displaying the query results.\n",
    "- Select \"Export Results\" from the context menu.\n",
    "- Choose the CSV format for the export.\n",
    "- Specify the location to save the file and provide a name.\n",
    "- Click \"Save\" to complete the export.\n",
    "- Verify the exported file by opening it in a text editor or spreadsheet application.\n"
   ]
  },
  {
   "cell_type": "markdown",
   "id": "5f341481-5276-42af-8195-f13423e08f4b",
   "metadata": {},
   "source": [
    "# "
   ]
  },
  {
   "cell_type": "markdown",
   "id": "13dcb8b7-0df6-47d2-9c30-db877e73bbc5",
   "metadata": {},
   "source": [
    "# 5. Insights and Findings"
   ]
  },
  {
   "cell_type": "markdown",
   "id": "597ad278-760b-43e0-834a-e1d9b54643c3",
   "metadata": {},
   "source": [
    "<h1 style=\"font-size: 14px; border-radius: 20px; padding: 12px; border: 4px solid gray; line-height: 1.6;\">\n",
    "Overview of any key insights gained from the data, such as trends in employee performance, average bonuses, or common assignment types.</h1>"
   ]
  },
  {
   "cell_type": "markdown",
   "id": "ebb0166f-bc98-4fdd-9713-2860a7dbd515",
   "metadata": {},
   "source": [
    "# 6. Conclusion"
   ]
  },
  {
   "cell_type": "markdown",
   "id": "3508d3e0-be95-4673-ba72-e3384dbcdae8",
   "metadata": {},
   "source": [
    "<h1 style=\"font-size: 14px; border-radius: 20px; padding: 12px; border: 4px solid gray; line-height: 1.6;\">This project provides a structured approach to managing employee performance and assignments, enabling data-driven decision-making for employers. Future enhancements could include additional data analysis features or integrations.</h1>h1>"
   ]
  },
  {
   "cell_type": "code",
   "execution_count": null,
   "id": "ac47d0bf-3fba-4b4e-b746-48a75e066c3a",
   "metadata": {},
   "outputs": [],
   "source": []
  }
 ],
 "metadata": {
  "kernelspec": {
   "display_name": "Python 3 (ipykernel)",
   "language": "python",
   "name": "python3"
  },
  "language_info": {
   "codemirror_mode": {
    "name": "ipython",
    "version": 3
   },
   "file_extension": ".py",
   "mimetype": "text/x-python",
   "name": "python",
   "nbconvert_exporter": "python",
   "pygments_lexer": "ipython3",
   "version": "3.12.7"
  },
  "widgets": {
   "application/vnd.jupyter.widget-state+json": {
    "state": {},
    "version_major": 2,
    "version_minor": 0
   }
  }
 },
 "nbformat": 4,
 "nbformat_minor": 5
}
